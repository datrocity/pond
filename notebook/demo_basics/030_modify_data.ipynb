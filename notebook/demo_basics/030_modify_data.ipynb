{
 "cells": [
  {
   "cell_type": "markdown",
   "metadata": {},
   "source": [
    "# Step 3: Where we illustrate what happens when the data changes"
   ]
  },
  {
   "cell_type": "code",
   "execution_count": 1,
   "metadata": {
    "ExecuteTime": {
     "end_time": "2023-08-24T12:28:07.579223Z",
     "start_time": "2023-08-24T12:28:07.569761Z"
    },
    "collapsed": false,
    "jupyter": {
     "outputs_hidden": false
    },
    "pycharm": {
     "name": "#%%\n"
    }
   },
   "outputs": [],
   "source": [
    "import pandas as pd\n",
    "\n",
    "from pond.storage.file_datastore import FileDatastore\n",
    "from pond import Activity\n",
    "\n",
    "\n",
    "datastore = FileDatastore(id='local_demo', base_path='./catalog')\n",
    "activity = Activity(source='030_modify_data.ipynb', author='pietro', datastore=datastore, location='experiment1')\n"
   ]
  },
  {
   "cell_type": "markdown",
   "metadata": {},
   "source": [
    "## We found a bug in the data!\n",
    "\n",
    "The name of the index was wrong, and the results values as well, so we fix the condition2 data, and save a new version"
   ]
  },
  {
   "cell_type": "code",
   "execution_count": 9,
   "metadata": {
    "ExecuteTime": {
     "end_time": "2023-08-24T12:29:03.835412Z",
     "start_time": "2023-08-24T12:29:03.834490Z"
    },
    "collapsed": false,
    "jupyter": {
     "outputs_hidden": false
    }
   },
   "outputs": [],
   "source": [
    "condition2_fixed = pd.DataFrame(\n",
    "    data=[[3], [-2], [1], [-5], [3]],\n",
    "    index=pd.Index([0, 2, 4, 6, 8], name='time'),\n",
    "    columns=['Results'],\n",
    ")\n"
   ]
  },
  {
   "cell_type": "code",
   "execution_count": 3,
   "metadata": {
    "ExecuteTime": {
     "end_time": "2023-08-24T12:30:08.393916Z",
     "start_time": "2023-08-24T12:30:08.376580Z"
    },
    "collapsed": false,
    "jupyter": {
     "outputs_hidden": false
    }
   },
   "outputs": [
    {
     "data": {
      "text/plain": [
       "<pond.version.Version at 0x1272db090>"
      ]
     },
     "execution_count": 3,
     "metadata": {},
     "output_type": "execute_result"
    }
   ],
   "source": [
    "activity.write(condition2_fixed, name='condition2_results', format='csv', metadata={'validated': True})"
   ]
  },
  {
   "cell_type": "markdown",
   "metadata": {},
   "source": [
    "# Rerun our analysis\n",
    "\n",
    "We want to re-run the analysis in `020_create_plot`. Here we pretend to re-run it by copy-and-pasting the same instructions, so that we can keep the demo linear"
   ]
  },
  {
   "cell_type": "markdown",
   "metadata": {},
   "source": [
    "# 020 pretend re-run"
   ]
  },
  {
   "cell_type": "code",
   "execution_count": 14,
   "metadata": {
    "collapsed": false,
    "jupyter": {
     "outputs_hidden": false
    },
    "pycharm": {
     "name": "#%%\n"
    }
   },
   "outputs": [],
   "source": [
    "%matplotlib inline\n",
    "\n",
    "import matplotlib.pyplot as plt\n",
    "\n",
    "from pond.storage.file_datastore import FileDatastore\n",
    "from pond import Activity\n",
    "\n",
    "\n",
    "# Notice that we use `020_create_plot.ipynb` as source, as part of this pretend re-run\n",
    "activity = Activity(\n",
    "    source='020_create_plot.ipynb', \n",
    "    datastore=FileDatastore(id='local_demo', base_path='./catalog'),\n",
    "    location='experiment1',\n",
    "    author='pietro', \n",
    ")"
   ]
  },
  {
   "cell_type": "markdown",
   "metadata": {},
   "source": [
    "# Read the data from the datastore\n",
    "\n",
    "If we don't specify a version name explicitly, `pond` loads by default the latest version\n"
   ]
  },
  {
   "cell_type": "code",
   "execution_count": 15,
   "metadata": {},
   "outputs": [],
   "source": [
    "c1 = activity.read('condition1_results')\n",
    "c2 = activity.read('condition2_results')"
   ]
  },
  {
   "cell_type": "code",
   "execution_count": 16,
   "metadata": {},
   "outputs": [
    {
     "data": {
      "text/plain": [
       "{'pond://local_demo/experiment1/condition1_results/v3',\n",
       " 'pond://local_demo/experiment1/condition2_results/v2'}"
      ]
     },
     "execution_count": 16,
     "metadata": {},
     "output_type": "execute_result"
    }
   ],
   "source": [
    "# Notice that condition_results was bumped to v2\n",
    "activity.read_history"
   ]
  },
  {
   "cell_type": "markdown",
   "metadata": {},
   "source": [
    "# Analysis!\n",
    "\n",
    "Our analysis in this case is just a plot"
   ]
  },
  {
   "cell_type": "code",
   "execution_count": 19,
   "metadata": {},
   "outputs": [
    {
     "data": {
      "text/plain": [
       "[<matplotlib.lines.Line2D at 0x136bf27d0>]"
      ]
     },
     "execution_count": 19,
     "metadata": {},
     "output_type": "execute_result"
    },
    {
     "data": {
      "image/png": "[encoded data removed]",
      "text/plain": [
       "<Figure size 640x480 with 1 Axes>"
      ]
     },
     "metadata": {},
     "output_type": "display_data"
    }
   ],
   "source": [
    "# You'll see that the orange line is different now, consistently with the new, corrected data!\n",
    "fig = plt.figure()\n",
    "plt.plot(c1, marker='o')\n",
    "plt.plot(c2, marker='o')"
   ]
  },
  {
   "cell_type": "markdown",
   "metadata": {},
   "source": [
    "# Save the analysis results in the datastore\n",
    "\n",
    "A plot can be saved in the datastore, just like any other piece of data"
   ]
  },
  {
   "cell_type": "code",
   "execution_count": 20,
   "metadata": {},
   "outputs": [],
   "source": [
    "version = activity.write(fig, 'analysis', metadata={'extra_info': 'Some extra information for illustration'})"
   ]
  },
  {
   "cell_type": "code",
   "execution_count": 22,
   "metadata": {},
   "outputs": [
    {
     "data": {
      "text/plain": [
       "{'user': {'extra_info': 'Some extra information for illustration'},\n",
       " 'activity': {'source': '020_create_plot.ipynb',\n",
       "  'author': 'pietro',\n",
       "  'inputs': ['pond://local_demo/experiment1/condition1_results/v3',\n",
       "   'pond://local_demo/experiment1/condition2_results/v2']},\n",
       " 'version': {'uri': 'pond://local_demo/experiment1/analysis/analysis/v2',\n",
       "  'filename': 'analysis_v2.png',\n",
       "  'date_time': '2024-09-11 14:11:04.734867',\n",
       "  'artifact_name': 'analysis'},\n",
       " 'artifact': {'data_hash': '87af9da5a06b714c902eeecf0963e0cf'}}"
      ]
     },
     "execution_count": 22,
     "metadata": {},
     "output_type": "execute_result"
    }
   ],
   "source": [
    "# The new version of the metadata shows that v2 of the analysis uses v2 of `condition2_results`\n",
    "version.manifest.collect()"
   ]
  },
  {
   "cell_type": "markdown",
   "metadata": {},
   "source": [
    "A look at the metadata of `condition2_results/v2` shows that the data has been modified in notebook `030_modify_data`, allowing us to track exactly how the image came to be."
   ]
  },
  {
   "cell_type": "code",
   "execution_count": 24,
   "metadata": {},
   "outputs": [
    {
     "data": {
      "text/plain": [
       "{'activity': {'author': 'pietro',\n",
       "  'inputs': [],\n",
       "  'source': '030_modify_data.ipynb'},\n",
       " 'artifact': {'data_hash': '3e999b12fe253ecdd5b9fcaaf9002888'},\n",
       " 'user': {'validated': 'True'},\n",
       " 'version': {'artifact_name': 'condition2_results',\n",
       "  'date_time': '2024-09-11 13:58:51.854239',\n",
       "  'filename': 'condition2_results_v2.csv',\n",
       "  'uri': 'pond://local_demo/experiment1/condition2_results/condition2_results/v2'}}"
      ]
     },
     "execution_count": 24,
     "metadata": {},
     "output_type": "execute_result"
    }
   ],
   "source": [
    "manifest = activity.read_manifest('condition2_results', version_name='v2')\n",
    "manifest.collect()"
   ]
  },
  {
   "cell_type": "markdown",
   "metadata": {},
   "source": [
    "# Reloading old versions\n",
    "\n",
    "If we need previous versions of the data or plots, we can always load them by specifying the version number"
   ]
  },
  {
   "cell_type": "code",
   "execution_count": 28,
   "metadata": {},
   "outputs": [
    {
     "data": {
      "image/png": "[encoded data removed]",
      "text/plain": [
       "<PIL.Image.Image image mode=RGB size=640x480>"
      ]
     },
     "execution_count": 28,
     "metadata": {},
     "output_type": "execute_result"
    }
   ],
   "source": [
    "activity.read('analysis', version_name='v1')"
   ]
  },
  {
   "cell_type": "code",
   "execution_count": 29,
   "metadata": {},
   "outputs": [
    {
     "data": {
      "text/plain": [
       "{'activity': {'author': 'pietro',\n",
       "  'inputs': ['pond://local_demo/experiment1/condition1_results/v3',\n",
       "   'pond://local_demo/experiment1/condition2_results/v1'],\n",
       "  'source': '020_create_plot.ipynb'},\n",
       " 'artifact': {'data_hash': '02f36ddfff9d1b39a747204ff790375a'},\n",
       " 'user': {'extra_info': 'Some extra information for illustration'},\n",
       " 'version': {'artifact_name': 'analysis',\n",
       "  'date_time': '2024-09-11 13:57:00.950656',\n",
       "  'filename': 'analysis_v1.png',\n",
       "  'uri': 'pond://local_demo/experiment1/analysis/analysis/v1'}}"
      ]
     },
     "execution_count": 29,
     "metadata": {},
     "output_type": "execute_result"
    }
   ],
   "source": [
    "manifest = activity.read_manifest('analysis', version_name='v1')\n",
    "manifest.collect()"
   ]
  },
  {
   "cell_type": "code",
   "execution_count": null,
   "metadata": {},
   "outputs": [],
   "source": []
  }
 ],
 "metadata": {
  "kernelspec": {
   "display_name": "Python 3 (ipykernel)",
   "language": "python",
   "name": "python3"
  },
  "language_info": {
   "codemirror_mode": {
    "name": "ipython",
    "version": 3
   },
   "file_extension": ".py",
   "mimetype": "text/x-python",
   "name": "python",
   "nbconvert_exporter": "python",
   "pygments_lexer": "ipython3",
   "version": "3.11.3"
  }
 },
 "nbformat": 4,
 "nbformat_minor": 4
}
