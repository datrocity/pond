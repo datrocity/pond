{
 "cells": [
  {
   "cell_type": "markdown",
   "metadata": {},
   "source": [
    "# Step 1: Ingest some data in a datastore"
   ]
  },
  {
   "cell_type": "code",
   "execution_count": 1,
   "metadata": {
    "ExecuteTime": {
     "end_time": "2023-08-24T12:28:07.579223Z",
     "start_time": "2023-08-24T12:28:07.569761Z"
    },
    "collapsed": false,
    "jupyter": {
     "outputs_hidden": false
    },
    "pycharm": {
     "name": "#%%\n"
    }
   },
   "outputs": [],
   "source": [
    "import pandas as pd\n",
    "\n",
    "from pond.storage.file_datastore import FileDatastore\n",
    "from pond import Activity\n",
    "\n",
    "# The activity object is usually the only object you need to care about.\n",
    "# It is used to read and write artifacts to the datastore, and it takes care of all the versioning and lineage tracking for you.\n",
    "activity = Activity(\n",
    "    source='010_initial_data.ipynb',  # This \"source\" will be used as the lineage for the artifacts that you write in this session\n",
    "    datastore='./catalog',    # We use a filesystem datastore in a local directory called `catalog` (the directory needs to exist already)\n",
    "    location='experiment1',   # Within the datastore, you can specify a default location (optional). It can be used to organize different \n",
    "    author='pietro',          # The author is also used in the lineage metadata\n",
    ")"
   ]
  },
  {
   "cell_type": "markdown",
   "metadata": {},
   "source": [
    "# \"Load\" two data frames and store them in the datastore as two different artifacts"
   ]
  },
  {
   "cell_type": "code",
   "execution_count": 2,
   "metadata": {
    "ExecuteTime": {
     "end_time": "2023-08-24T12:29:03.835412Z",
     "start_time": "2023-08-24T12:29:03.834490Z"
    },
    "collapsed": false,
    "jupyter": {
     "outputs_hidden": false
    }
   },
   "outputs": [],
   "source": [
    "condition1 = pd.DataFrame(\n",
    "    data=[[3], [2], [1], [5], [3]],\n",
    "    index=pd.Index([1, 3, 5, 7, 9], name='time'),\n",
    "    columns=['Results'],\n",
    ")\n",
    "\n",
    "condition2 = pd.DataFrame(\n",
    "    data=[[-3], [-2], [-1], [-5], [-3]],\n",
    "    index=pd.Index([0, 2, 4, 6, 8], name='timf'),\n",
    "    columns=['Results'],\n",
    ")\n"
   ]
  },
  {
   "cell_type": "code",
   "execution_count": 3,
   "metadata": {},
   "outputs": [
    {
     "data": {
      "text/html": [
       "<div>\n",
       "<style scoped>\n",
       "    .dataframe tbody tr th:only-of-type {\n",
       "        vertical-align: middle;\n",
       "    }\n",
       "\n",
       "    .dataframe tbody tr th {\n",
       "        vertical-align: top;\n",
       "    }\n",
       "\n",
       "    .dataframe thead th {\n",
       "        text-align: right;\n",
       "    }\n",
       "</style>\n",
       "<table border=\"1\" class=\"dataframe\">\n",
       "  <thead>\n",
       "    <tr style=\"text-align: right;\">\n",
       "      <th></th>\n",
       "      <th>Results</th>\n",
       "    </tr>\n",
       "    <tr>\n",
       "      <th>time</th>\n",
       "      <th></th>\n",
       "    </tr>\n",
       "  </thead>\n",
       "  <tbody>\n",
       "    <tr>\n",
       "      <th>1</th>\n",
       "      <td>3</td>\n",
       "    </tr>\n",
       "    <tr>\n",
       "      <th>3</th>\n",
       "      <td>2</td>\n",
       "    </tr>\n",
       "    <tr>\n",
       "      <th>5</th>\n",
       "      <td>1</td>\n",
       "    </tr>\n",
       "    <tr>\n",
       "      <th>7</th>\n",
       "      <td>5</td>\n",
       "    </tr>\n",
       "    <tr>\n",
       "      <th>9</th>\n",
       "      <td>3</td>\n",
       "    </tr>\n",
       "  </tbody>\n",
       "</table>\n",
       "</div>"
      ],
      "text/plain": [
       "      Results\n",
       "time         \n",
       "1           3\n",
       "3           2\n",
       "5           1\n",
       "7           5\n",
       "9           3"
      ]
     },
     "execution_count": 3,
     "metadata": {},
     "output_type": "execute_result"
    }
   ],
   "source": [
    "condition1"
   ]
  },
  {
   "cell_type": "code",
   "execution_count": 4,
   "metadata": {},
   "outputs": [
    {
     "data": {
      "text/html": [
       "<div>\n",
       "<style scoped>\n",
       "    .dataframe tbody tr th:only-of-type {\n",
       "        vertical-align: middle;\n",
       "    }\n",
       "\n",
       "    .dataframe tbody tr th {\n",
       "        vertical-align: top;\n",
       "    }\n",
       "\n",
       "    .dataframe thead th {\n",
       "        text-align: right;\n",
       "    }\n",
       "</style>\n",
       "<table border=\"1\" class=\"dataframe\">\n",
       "  <thead>\n",
       "    <tr style=\"text-align: right;\">\n",
       "      <th></th>\n",
       "      <th>Results</th>\n",
       "    </tr>\n",
       "    <tr>\n",
       "      <th>timf</th>\n",
       "      <th></th>\n",
       "    </tr>\n",
       "  </thead>\n",
       "  <tbody>\n",
       "    <tr>\n",
       "      <th>0</th>\n",
       "      <td>-3</td>\n",
       "    </tr>\n",
       "    <tr>\n",
       "      <th>2</th>\n",
       "      <td>-2</td>\n",
       "    </tr>\n",
       "    <tr>\n",
       "      <th>4</th>\n",
       "      <td>-1</td>\n",
       "    </tr>\n",
       "    <tr>\n",
       "      <th>6</th>\n",
       "      <td>-5</td>\n",
       "    </tr>\n",
       "    <tr>\n",
       "      <th>8</th>\n",
       "      <td>-3</td>\n",
       "    </tr>\n",
       "  </tbody>\n",
       "</table>\n",
       "</div>"
      ],
      "text/plain": [
       "      Results\n",
       "timf         \n",
       "0          -3\n",
       "2          -2\n",
       "4          -1\n",
       "6          -5\n",
       "8          -3"
      ]
     },
     "execution_count": 4,
     "metadata": {},
     "output_type": "execute_result"
    }
   ],
   "source": [
    "condition2"
   ]
  },
  {
   "cell_type": "code",
   "execution_count": 5,
   "metadata": {
    "ExecuteTime": {
     "end_time": "2023-08-24T12:30:08.393916Z",
     "start_time": "2023-08-24T12:30:08.376580Z"
    },
    "collapsed": false,
    "jupyter": {
     "outputs_hidden": false
    }
   },
   "outputs": [
    {
     "data": {
      "text/plain": [
       "<pond.version.Version at 0x138edb310>"
      ]
     },
     "execution_count": 5,
     "metadata": {},
     "output_type": "execute_result"
    }
   ],
   "source": [
    "# Write the first dataframe with the name \"condition1_results\".\n",
    "# The optional \"metadata\" argument can be used to add any user-defined metadata.\n",
    "activity.write(condition1, name='condition1_results', metadata={'validated': True})\n",
    "# Write the second dataframe with the name \"condition2_results\".\n",
    "activity.write(condition2, name='condition2_results', metadata={'validated': False})"
   ]
  },
  {
   "cell_type": "markdown",
   "metadata": {},
   "source": [
    "# Demonstrate write modes\n",
    "\n",
    "`pond` supports several write modes, which control how the versioning of the artifacts work."
   ]
  },
  {
   "cell_type": "code",
   "execution_count": 6,
   "metadata": {},
   "outputs": [],
   "source": [
    "from pond.conventions import WriteMode"
   ]
  },
  {
   "cell_type": "markdown",
   "metadata": {},
   "source": [
    "## `ERROR_IF_EXISTS`\n",
    "\n",
    "`ERROR_IF_EXISTS` is the default write mode. It always create a new version of an artifact on write, which means that the history of your data is never lost by overwriting. If you explicitly specify a version number to write to, and it already exists, `pond` is going to throw an error."
   ]
  },
  {
   "cell_type": "code",
   "execution_count": 7,
   "metadata": {},
   "outputs": [],
   "source": [
    "# Write the first data frame again, in `ERROR_IF_EXISTS` mode (default)\n",
    "# Since no version name is specified, it automatically create a new version of the artifact.\n",
    "version = activity.write(condition1, name='condition1_results', metadata={'validated': True}, write_mode=WriteMode.ERROR_IF_EXISTS)"
   ]
  },
  {
   "cell_type": "code",
   "execution_count": 8,
   "metadata": {},
   "outputs": [
    {
     "name": "stdout",
     "output_type": "stream",
     "text": [
      "v2\n"
     ]
    }
   ],
   "source": [
    "print(version.version_name)"
   ]
  },
  {
   "cell_type": "code",
   "execution_count": 9,
   "metadata": {},
   "outputs": [
    {
     "ename": "VersionAlreadyExists",
     "evalue": "Version already exists:  pond://catalog/experiment1/condition1_results/v1.",
     "output_type": "error",
     "traceback": [
      "\u001b[0;31m---------------------------------------------------------------------------\u001b[0m",
      "\u001b[0;31mVersionAlreadyExists\u001b[0m                      Traceback (most recent call last)",
      "Cell \u001b[0;32mIn[9], line 2\u001b[0m\n\u001b[1;32m      1\u001b[0m \u001b[38;5;66;03m# If we try to write over an older versions, we get a loud complaint\u001b[39;00m\n\u001b[0;32m----> 2\u001b[0m version \u001b[38;5;241m=\u001b[39m \u001b[43mactivity\u001b[49m\u001b[38;5;241;43m.\u001b[39;49m\u001b[43mwrite\u001b[49m\u001b[43m(\u001b[49m\u001b[43mcondition1\u001b[49m\u001b[43m,\u001b[49m\u001b[43m \u001b[49m\u001b[43mname\u001b[49m\u001b[38;5;241;43m=\u001b[39;49m\u001b[38;5;124;43m'\u001b[39;49m\u001b[38;5;124;43mcondition1_results\u001b[39;49m\u001b[38;5;124;43m'\u001b[39;49m\u001b[43m,\u001b[49m\u001b[43m \u001b[49m\u001b[43mversion_name\u001b[49m\u001b[38;5;241;43m=\u001b[39;49m\u001b[38;5;124;43m'\u001b[39;49m\u001b[38;5;124;43mv1\u001b[39;49m\u001b[38;5;124;43m'\u001b[39;49m\u001b[43m)\u001b[49m\n",
      "File \u001b[0;32m~/o/pond/pond/activity.py:313\u001b[0m, in \u001b[0;36mActivity.write\u001b[0;34m(self, data, name, version_name, metadata, write_mode, location, artifact_class, format)\u001b[0m\n\u001b[1;32m    311\u001b[0m activity_metadata_source \u001b[38;5;241m=\u001b[39m \u001b[38;5;28mself\u001b[39m\u001b[38;5;241m.\u001b[39mget_metadata()\n\u001b[1;32m    312\u001b[0m manifest\u001b[38;5;241m.\u001b[39madd_section(activity_metadata_source)\n\u001b[0;32m--> 313\u001b[0m version \u001b[38;5;241m=\u001b[39m \u001b[43mversioned_artifact\u001b[49m\u001b[38;5;241;43m.\u001b[39;49m\u001b[43mwrite\u001b[49m\u001b[43m(\u001b[49m\n\u001b[1;32m    314\u001b[0m \u001b[43m    \u001b[49m\u001b[43mdata\u001b[49m\u001b[38;5;241;43m=\u001b[39;49m\u001b[43mdata\u001b[49m\u001b[43m,\u001b[49m\n\u001b[1;32m    315\u001b[0m \u001b[43m    \u001b[49m\u001b[43mmanifest\u001b[49m\u001b[38;5;241;43m=\u001b[39;49m\u001b[43mmanifest\u001b[49m\u001b[43m,\u001b[49m\n\u001b[1;32m    316\u001b[0m \u001b[43m    \u001b[49m\u001b[43mversion_name\u001b[49m\u001b[38;5;241;43m=\u001b[39;49m\u001b[43mversion_name\u001b[49m\u001b[43m,\u001b[49m\n\u001b[1;32m    317\u001b[0m \u001b[43m    \u001b[49m\u001b[43mwrite_mode\u001b[49m\u001b[38;5;241;43m=\u001b[39;49m\u001b[43mwrite_mode\u001b[49m\u001b[43m,\u001b[49m\n\u001b[1;32m    318\u001b[0m \u001b[43m\u001b[49m\u001b[43m)\u001b[49m\n\u001b[1;32m    320\u001b[0m version_uri \u001b[38;5;241m=\u001b[39m version\u001b[38;5;241m.\u001b[39mget_uri(\u001b[38;5;28mself\u001b[39m\u001b[38;5;241m.\u001b[39mlocation, \u001b[38;5;28mself\u001b[39m\u001b[38;5;241m.\u001b[39mdatastore)\n\u001b[1;32m    321\u001b[0m \u001b[38;5;28mself\u001b[39m\u001b[38;5;241m.\u001b[39mwrite_history\u001b[38;5;241m.\u001b[39madd(version_uri)\n",
      "File \u001b[0;32m~/o/pond/pond/versioned_artifact.py:225\u001b[0m, in \u001b[0;36mVersionedArtifact.write\u001b[0;34m(self, data, manifest, version_name, write_mode)\u001b[0m\n\u001b[1;32m    223\u001b[0m \u001b[38;5;28;01mif\u001b[39;00m write_mode \u001b[38;5;241m==\u001b[39m WriteMode\u001b[38;5;241m.\u001b[39mERROR_IF_EXISTS:\n\u001b[1;32m    224\u001b[0m     uri \u001b[38;5;241m=\u001b[39m version\u001b[38;5;241m.\u001b[39mget_uri(\u001b[38;5;28mself\u001b[39m\u001b[38;5;241m.\u001b[39mlocation, \u001b[38;5;28mself\u001b[39m\u001b[38;5;241m.\u001b[39mdatastore)\n\u001b[0;32m--> 225\u001b[0m     \u001b[38;5;28;01mraise\u001b[39;00m VersionAlreadyExists(uri)\n\u001b[1;32m    226\u001b[0m \u001b[38;5;28;01melse\u001b[39;00m:\n\u001b[1;32m    227\u001b[0m     uri \u001b[38;5;241m=\u001b[39m version\u001b[38;5;241m.\u001b[39mget_uri(\u001b[38;5;28mself\u001b[39m\u001b[38;5;241m.\u001b[39mlocation, \u001b[38;5;28mself\u001b[39m\u001b[38;5;241m.\u001b[39mdatastore)\n",
      "\u001b[0;31mVersionAlreadyExists\u001b[0m: Version already exists:  pond://catalog/experiment1/condition1_results/v1."
     ]
    }
   ],
   "source": [
    "# If we try to write over an older versions, we get a loud complaint\n",
    "version = activity.write(condition1, name='condition1_results', version_name='v1')"
   ]
  },
  {
   "cell_type": "markdown",
   "metadata": {},
   "source": [
    "## `WRITE_ON_CHANGE`\n",
    "\n",
    "With `WRITE_ON_CHANGE`, a new version is created only if the content of the data has changed since the last versino. This saves some space on disk, but be careful: the metadata is overwritten, so some information might be lost! For example, if you had a plot that was created with this version of the data, looking at its metadata might produce the wrong lineage if it's been overwritten later."
   ]
  },
  {
   "cell_type": "code",
   "execution_count": 10,
   "metadata": {},
   "outputs": [],
   "source": [
    "version = activity.write(condition1, name='condition1_results', metadata={'validated': True}, write_mode=WriteMode.WRITE_ON_CHANGE)"
   ]
  },
  {
   "cell_type": "code",
   "execution_count": 11,
   "metadata": {},
   "outputs": [
    {
     "name": "stdout",
     "output_type": "stream",
     "text": [
      "v2\n"
     ]
    }
   ],
   "source": [
    "# The data did not change, so the version remains the same\n",
    "print(version.version_name)"
   ]
  },
  {
   "cell_type": "code",
   "execution_count": 12,
   "metadata": {},
   "outputs": [],
   "source": [
    "# If we change the data and write again....\n",
    "condition1.loc[1] = 7\n",
    "version = activity.write(condition1, name='condition1_results', metadata={'validated': True}, write_mode=WriteMode.WRITE_ON_CHANGE)"
   ]
  },
  {
   "cell_type": "code",
   "execution_count": 13,
   "metadata": {},
   "outputs": [
    {
     "name": "stdout",
     "output_type": "stream",
     "text": [
      "v3\n"
     ]
    }
   ],
   "source": [
    "# ... the version name is bumped\n",
    "print(version.version_name)"
   ]
  },
  {
   "cell_type": "markdown",
   "metadata": {},
   "source": [
    "## `OVERWRITE`\n",
    "\n",
    "The `OVERWRITE` mode just overwrites a previous version. Use this to your own risk! We do not recommend it, ever: it is going to mess up all of your reproducibility and lineage tracing efforts."
   ]
  },
  {
   "cell_type": "code",
   "execution_count": 14,
   "metadata": {},
   "outputs": [
    {
     "data": {
      "text/plain": [
       "<pond.version.Version at 0x139005390>"
      ]
     },
     "execution_count": 14,
     "metadata": {},
     "output_type": "execute_result"
    }
   ],
   "source": [
    "# Overwrite version 2\n",
    "activity.write(condition1, name='condition1_results', metadata={'validated': True}, write_mode=WriteMode.OVERWRITE, version_name='v2')"
   ]
  },
  {
   "cell_type": "markdown",
   "metadata": {},
   "source": [
    "# What did we read / write?\n",
    "\n",
    "If we want to know what artifacts we have read and written so far, we can interrogate the Activity object.\n",
    "\n",
    "We expect to see several versions of the `condition1_results` artifact, since we wrote is several times when experimenting with write modes, and one version of `condition2_results`"
   ]
  },
  {
   "cell_type": "code",
   "execution_count": 15,
   "metadata": {},
   "outputs": [
    {
     "data": {
      "text/plain": [
       "set()"
      ]
     },
     "execution_count": 15,
     "metadata": {},
     "output_type": "execute_result"
    }
   ],
   "source": [
    "activity.read_history"
   ]
  },
  {
   "cell_type": "code",
   "execution_count": 16,
   "metadata": {},
   "outputs": [
    {
     "data": {
      "text/plain": [
       "{'pond://catalog/experiment1/condition1_results/v1',\n",
       " 'pond://catalog/experiment1/condition1_results/v2',\n",
       " 'pond://catalog/experiment1/condition1_results/v3',\n",
       " 'pond://catalog/experiment1/condition2_results/v1'}"
      ]
     },
     "execution_count": 16,
     "metadata": {},
     "output_type": "execute_result"
    }
   ],
   "source": [
    "activity.write_history"
   ]
  },
  {
   "cell_type": "code",
   "execution_count": null,
   "metadata": {},
   "outputs": [],
   "source": []
  }
 ],
 "metadata": {
  "kernelspec": {
   "display_name": "Python 3 (ipykernel)",
   "language": "python",
   "name": "python3"
  },
  "language_info": {
   "codemirror_mode": {
    "name": "ipython",
    "version": 3
   },
   "file_extension": ".py",
   "mimetype": "text/x-python",
   "name": "python",
   "nbconvert_exporter": "python",
   "pygments_lexer": "ipython3",
   "version": "3.11.3"
  }
 },
 "nbformat": 4,
 "nbformat_minor": 4
}
